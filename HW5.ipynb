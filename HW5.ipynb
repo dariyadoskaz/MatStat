{
  "metadata": {
    "language_info": {
      "codemirror_mode": {
        "name": "python",
        "version": 3
      },
      "file_extension": ".py",
      "mimetype": "text/x-python",
      "name": "python",
      "nbconvert_exporter": "python",
      "pygments_lexer": "ipython3",
      "version": "3.8"
    },
    "kernelspec": {
      "name": "python",
      "display_name": "Python (Pyodide)",
      "language": "python"
    }
  },
  "nbformat_minor": 4,
  "nbformat": 4,
  "cells": [
    {
      "cell_type": "raw",
      "source": "1. Известно, что генеральная совокупность распределена нормально\nсо средним квадратическим отклонением, равным 16.\nНайти доверительный интервал для оценки математического ожидания a с надежностью 0.95,\nесли выборочная средняя M = 80, а объем выборки n = 256.",
      "metadata": {}
    },
    {
      "cell_type": "code",
      "source": "import math",
      "metadata": {
        "trusted": true
      },
      "execution_count": 15,
      "outputs": []
    },
    {
      "cell_type": "markdown",
      "source": "$\\sigma=16$\n\n$M_{(x)} = a$\n\n$p=0.95$\n\n$\\overline{X}_{в}=80$\n\n$n=256$",
      "metadata": {}
    },
    {
      "cell_type": "markdown",
      "source": "$$α = 1 - p = 1 - 0.95 = 0.05$$",
      "metadata": {}
    },
    {
      "cell_type": "markdown",
      "source": "Известно, что генеральная совокупность распределена нормально $\\frac{\\alpha}{2} = 0.025$",
      "metadata": {}
    },
    {
      "cell_type": "markdown",
      "source": "$[\\overline{X}_{в} - z_{(\\frac{\\alpha}{2})} * \\frac{\\sigma}{\\sqrt{n}}; \\overline{X}_{в} + z_{(\\frac{\\alpha}{2})} * \\frac{\\sigma}{\\sqrt{n}}]$",
      "metadata": {}
    },
    {
      "cell_type": "code",
      "source": "80-1.96*16/math.sqrt(256)",
      "metadata": {
        "trusted": true
      },
      "execution_count": 5,
      "outputs": [
        {
          "execution_count": 5,
          "output_type": "execute_result",
          "data": {
            "text/plain": "78.04"
          },
          "metadata": {}
        }
      ]
    },
    {
      "cell_type": "code",
      "source": "80+1.96*16/math.sqrt(256)",
      "metadata": {
        "trusted": true
      },
      "execution_count": 6,
      "outputs": [
        {
          "execution_count": 6,
          "output_type": "execute_result",
          "data": {
            "text/plain": "81.96"
          },
          "metadata": {}
        }
      ]
    },
    {
      "cell_type": "markdown",
      "source": "Этот интервал $[78.04; 81.96]$ с вероятностью 95% покрывает истенное $M_{(x)} = a$ генеральной совокупности ",
      "metadata": {}
    },
    {
      "cell_type": "raw",
      "source": "2. В результате 10 независимых измерений некоторой величины X, выполненных с одинаковой точностью,\nполучены опытные данные:\n6.9, 6.1, 6.2, 6.8, 7.5, 6.3, 6.4, 6.9, 6.7, 6.1\nПредполагая, что результаты измерений подчинены нормальному закону распределения вероятностей,\nоценить истинное значение величины X при помощи доверительного интервала, покрывающего это\nзначение с доверительной вероятностью 0,95.",
      "metadata": {}
    },
    {
      "cell_type": "markdown",
      "source": "$p=0.95$\n\n$α = 1 - p = 1 - 0.95 = 0.05$\n\n$n=10$",
      "metadata": {}
    },
    {
      "cell_type": "markdown",
      "source": "Известно, что генеральная совокупность распределена нормально $\\alpha/2 = 0.025$",
      "metadata": {}
    },
    {
      "cell_type": "code",
      "source": "import statistics",
      "metadata": {
        "trusted": true
      },
      "execution_count": 4,
      "outputs": []
    },
    {
      "cell_type": "code",
      "source": "x = [6.9, 6.1, 6.2, 6.8, 7.5, 6.3, 6.4, 6.9, 6.7, 6.1]\nx_mean = statistics.mean(x) \nprint (x_mean)",
      "metadata": {
        "trusted": true
      },
      "execution_count": 5,
      "outputs": [
        {
          "name": "stdout",
          "text": "6.59\n",
          "output_type": "stream"
        }
      ]
    },
    {
      "cell_type": "markdown",
      "source": "$\\overline{X}_{в}=6.59$",
      "metadata": {}
    },
    {
      "cell_type": "code",
      "source": "import numpy as np",
      "metadata": {
        "trusted": true
      },
      "execution_count": 6,
      "outputs": []
    },
    {
      "cell_type": "code",
      "source": "x = [6.9, 6.1, 6.2, 6.8, 7.5, 6.3, 6.4, 6.9, 6.7, 6.1]\ns2 = np.var(x, ddof=1)\nprint(s2)",
      "metadata": {
        "trusted": true
      },
      "execution_count": 12,
      "outputs": [
        {
          "name": "stdout",
          "text": "0.2032222222222223\n",
          "output_type": "stream"
        }
      ]
    },
    {
      "cell_type": "code",
      "source": "math.sqrt(s2)",
      "metadata": {
        "trusted": true
      },
      "execution_count": 18,
      "outputs": [
        {
          "execution_count": 18,
          "output_type": "execute_result",
          "data": {
            "text/plain": "0.4508017549014448"
          },
          "metadata": {}
        }
      ]
    },
    {
      "cell_type": "markdown",
      "source": "$p = 1 - \\frac{\\alpha}{2} = 1 - 0.025 = 0.975$",
      "metadata": {}
    },
    {
      "cell_type": "markdown",
      "source": "$K(\\frac{\\alpha}{2}) = t(\\frac{\\alpha}{2}) = 2.262$",
      "metadata": {}
    },
    {
      "cell_type": "code",
      "source": "6.59-2.262*0.45080/math.sqrt(10)",
      "metadata": {
        "trusted": true
      },
      "execution_count": 20,
      "outputs": [
        {
          "execution_count": 20,
          "output_type": "execute_result",
          "data": {
            "text/plain": "6.267539511206077"
          },
          "metadata": {}
        }
      ]
    },
    {
      "cell_type": "code",
      "source": "6.59+2.262*0.45080/math.sqrt(10)",
      "metadata": {
        "trusted": true
      },
      "execution_count": 21,
      "outputs": [
        {
          "execution_count": 21,
          "output_type": "execute_result",
          "data": {
            "text/plain": "6.912460488793923"
          },
          "metadata": {}
        }
      ]
    },
    {
      "cell_type": "markdown",
      "source": "Этот интервал $[6.2675; 6.9125]$ покрывает истинное значение X с доверительной вероятностью 95%.",
      "metadata": {}
    },
    {
      "cell_type": "raw",
      "source": "3. Утверждается, что шарики для подшипников, изготовленные автоматическим станком, имеют средний диаметр 17 мм.\nИспользуя односторонний критерий с α=0,05, проверить эту гипотезу, если в выборке из n=100 шариков средний диаметр\nоказался равным 17.5 мм, а дисперсия известна и равна 4 мм.",
      "metadata": {}
    },
    {
      "cell_type": "markdown",
      "source": "$\\mu_{0} = 17$\n\n$\\mu = 17.5$\n\n$n = 100$\n\n$D_{(x)} = 4$\n\n$\\alpha = 0.05$",
      "metadata": {}
    },
    {
      "cell_type": "markdown",
      "source": "$H_{0}:\\mu = \\mu_{0}$. Если $K_{(расч)} < K_{(таб)}$, принимаем гипотезу $H_{0}$ \n\n$H_{1}:\\mu > \\mu_{0}$. Если $K_{(расч)} > K_{(таб)}$, то отвергаем $H_{0}$ принимаем $H_{1}$",
      "metadata": {}
    },
    {
      "cell_type": "markdown",
      "source": "Известна $D_{(x)}$ из ГС можем найти $\\sigma$ из ГС. $\\sigma = \\sqrt{D_{(x)}} = 2$",
      "metadata": {}
    },
    {
      "cell_type": "markdown",
      "source": "$K_{(расч)} = z_{(расч)} = \\frac{\\mu - \\mu_{0}}{\\frac{\\sigma}{\\sqrt{n}}}$",
      "metadata": {}
    },
    {
      "cell_type": "code",
      "source": "(17.5-17)/(2/math.sqrt(100))",
      "metadata": {
        "trusted": true
      },
      "execution_count": 25,
      "outputs": [
        {
          "execution_count": 25,
          "output_type": "execute_result",
          "data": {
            "text/plain": "2.5"
          },
          "metadata": {}
        }
      ]
    },
    {
      "cell_type": "markdown",
      "source": "$K_{(таб)} = z_{(таб)} = z(p=1-\\alpha) = z(0.95) = 1.65 $",
      "metadata": {}
    },
    {
      "cell_type": "markdown",
      "source": "Вывод $z_{(расч)} > z_{(таб)}$ Отвергаем $H_{0}$ принимаем $H_{1}$",
      "metadata": {}
    },
    {
      "cell_type": "raw",
      "source": "4.Продавец утверждает, что средний вес пачки печенья составляет 200 г.\nИз партии извлечена выборка из 10 пачек. Вес каждой пачки составляет:\n202, 203, 199, 197, 195, 201, 200, 204, 194, 190.\nИзвестно, что их веса распределены нормально.\nВерно ли утверждение продавца, если учитывать, что доверительная вероятность равна 99%?",
      "metadata": {}
    },
    {
      "cell_type": "markdown",
      "source": "$\\alpha = 0.01%$\n\n$n =10$\n\n$\\mu_{0} = 200$\n\n$\\mu = 198.5$",
      "metadata": {}
    },
    {
      "cell_type": "markdown",
      "source": "$H_{0}:\\mu = \\mu_{0}$.\n\n$H_{1}:\\mu != \\mu_{0}$.",
      "metadata": {}
    },
    {
      "cell_type": "code",
      "source": "x = [202, 203, 199, 197, 195, 201, 200, 204, 194, 190]\nx_mean = statistics.mean(x) \nprint (x_mean)",
      "metadata": {
        "trusted": true
      },
      "execution_count": 26,
      "outputs": [
        {
          "name": "stdout",
          "text": "198.5\n",
          "output_type": "stream"
        }
      ]
    },
    {
      "cell_type": "markdown",
      "source": "$K_{(расч)} = t_{(расч)} = \\frac{|\\mu - \\mu_{0}|}{\\frac{s}{\\sqrt{n}}}$. В формуле учитывется модуль",
      "metadata": {}
    },
    {
      "cell_type": "markdown",
      "source": "Критерий $ K $ из табл.Стюдента. Стандартная ошибка среднего = $\\frac{s}{\\sqrt{n}}$, где $s$ среднеквадратическое отклонение от несмещенной оценки дисперсии выборки",
      "metadata": {}
    },
    {
      "cell_type": "code",
      "source": "x = [202, 203, 199, 197, 195, 201, 200, 204, 194, 190]\ns2 = np.var(x, ddof=1)\nprint(s2)",
      "metadata": {
        "trusted": true
      },
      "execution_count": 30,
      "outputs": [
        {
          "name": "stdout",
          "text": "19.833333333333332\n",
          "output_type": "stream"
        }
      ]
    },
    {
      "cell_type": "code",
      "source": "math.sqrt(s2)",
      "metadata": {
        "trusted": true
      },
      "execution_count": 31,
      "outputs": [
        {
          "execution_count": 31,
          "output_type": "execute_result",
          "data": {
            "text/plain": "4.453463071962462"
          },
          "metadata": {}
        }
      ]
    },
    {
      "cell_type": "code",
      "source": "t = (abs(198.5-200))*4.45346/math.sqrt(10)\nprint(t)",
      "metadata": {
        "trusted": true
      },
      "execution_count": 37,
      "outputs": [
        {
          "name": "stdout",
          "text": "2.1124615602680206\n",
          "output_type": "stream"
        }
      ]
    },
    {
      "cell_type": "markdown",
      "source": "$t_{(расч)} = 2.1125$",
      "metadata": {}
    },
    {
      "cell_type": "markdown",
      "source": "$ t_{(таб)} = 2.821 $",
      "metadata": {}
    },
    {
      "cell_type": "markdown",
      "source": "Вывод $t_{(расч)} < t_{(таб)}$ принимаем $H_{0}$. Верно значение 200.",
      "metadata": {}
    },
    {
      "cell_type": "code",
      "source": "",
      "metadata": {},
      "execution_count": null,
      "outputs": []
    }
  ]
}