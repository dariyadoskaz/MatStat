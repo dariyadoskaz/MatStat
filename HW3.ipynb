{
  "metadata": {
    "language_info": {
      "codemirror_mode": {
        "name": "python",
        "version": 3
      },
      "file_extension": ".py",
      "mimetype": "text/x-python",
      "name": "python",
      "nbconvert_exporter": "python",
      "pygments_lexer": "ipython3",
      "version": "3.8"
    },
    "kernelspec": {
      "name": "python",
      "display_name": "Python (Pyodide)",
      "language": "python"
    }
  },
  "nbformat_minor": 4,
  "nbformat": 4,
  "cells": [
    {
      "cell_type": "raw",
      "source": "1. Даны значения зарплат из выборки выпускников: 100, 80, 75, 77, 89, 33, 45, 25, 65, 17, 30, 24, 57, 55, 70, 75, 65, 84, 90, 150. Посчитать (желательно без использования статистических методов наподобие std, var, mean) \n    среднее арифметическое, \n    среднее квадратичное отклонение, \n    смещенную и несмещенную оценки дисперсий для данной выборки.",
      "metadata": {}
    },
    {
      "cell_type": "code",
      "source": "import numpy as np\nfrom math import factorial",
      "metadata": {
        "trusted": true
      },
      "execution_count": 1,
      "outputs": []
    },
    {
      "cell_type": "code",
      "source": "salaries = np.array([100, 80, 75, 77, 89, 33, 45, 25, 65, 17, 30, 24, 57, 55, 70, 75, 65, 84, 90, 150])",
      "metadata": {
        "trusted": true
      },
      "execution_count": 3,
      "outputs": []
    },
    {
      "cell_type": "raw",
      "source": "Cреднее арифметическое",
      "metadata": {}
    },
    {
      "cell_type": "code",
      "source": "salaries_mean = salaries.sum() / salaries.size",
      "metadata": {
        "trusted": true
      },
      "execution_count": 8,
      "outputs": []
    },
    {
      "cell_type": "raw",
      "source": "Cреднее квадратичное отклонение",
      "metadata": {}
    },
    {
      "cell_type": "code",
      "source": "(np.sum((salaries - salaries_mean)**2) / salaries.size)**0.5",
      "metadata": {
        "trusted": true
      },
      "execution_count": 5,
      "outputs": [
        {
          "execution_count": 5,
          "output_type": "execute_result",
          "data": {
            "text/plain": "30.823854398825596"
          },
          "metadata": {}
        }
      ]
    },
    {
      "cell_type": "raw",
      "source": "Cмещенную дисперсию",
      "metadata": {}
    },
    {
      "cell_type": "code",
      "source": "np.sum((salaries - salaries_mean)**2) / salaries.size",
      "metadata": {
        "trusted": true
      },
      "execution_count": 6,
      "outputs": [
        {
          "execution_count": 6,
          "output_type": "execute_result",
          "data": {
            "text/plain": "950.11"
          },
          "metadata": {}
        }
      ]
    },
    {
      "cell_type": "raw",
      "source": "Несмещенную дисперсию",
      "metadata": {}
    },
    {
      "cell_type": "code",
      "source": "np.sum((salaries - salaries_mean)**2) / (salaries.size - 1)",
      "metadata": {
        "trusted": true
      },
      "execution_count": 7,
      "outputs": [
        {
          "execution_count": 7,
          "output_type": "execute_result",
          "data": {
            "text/plain": "1000.1157894736842"
          },
          "metadata": {}
        }
      ]
    },
    {
      "cell_type": "raw",
      "source": "2. В первом ящике находится 8 мячей, из которых 5 - белые. Во втором ящике - 12 мячей, из которых 5 белых. Из первого ящика вытаскивают случайным образом два мяча, из второго - 4. Какова вероятность того, что 3 мяча белые?",
      "metadata": {}
    },
    {
      "cell_type": "markdown",
      "source": "$$C_n^k = \\frac{n!}{k!(n - k)!}$$",
      "metadata": {}
    },
    {
      "cell_type": "code",
      "source": "def combinations(n, k):\n    return int(factorial(n) / (factorial(k) * factorial(n - k)))",
      "metadata": {
        "trusted": true
      },
      "execution_count": 2,
      "outputs": []
    },
    {
      "cell_type": "raw",
      "source": "1-вариант: 0 и 3 ",
      "metadata": {}
    },
    {
      "cell_type": "code",
      "source": "P1=(combinations(5,0)*combinations(3,2))/combinations(8,2)*((combinations(5,3)*combinations(7,1))/combinations(12,4))\nP1",
      "metadata": {
        "trusted": true
      },
      "execution_count": 12,
      "outputs": [
        {
          "execution_count": 12,
          "output_type": "execute_result",
          "data": {
            "text/plain": "0.01515151515151515"
          },
          "metadata": {}
        }
      ]
    },
    {
      "cell_type": "raw",
      "source": "2-вариант: 1 и 2",
      "metadata": {}
    },
    {
      "cell_type": "code",
      "source": "P2=(combinations(5,1)*combinations(3,1))/combinations(8,2)*((combinations(5,2)*combinations(7,2))/combinations(12,4))\nP2",
      "metadata": {
        "trusted": true
      },
      "execution_count": 13,
      "outputs": [
        {
          "execution_count": 13,
          "output_type": "execute_result",
          "data": {
            "text/plain": "0.22727272727272727"
          },
          "metadata": {}
        }
      ]
    },
    {
      "cell_type": "raw",
      "source": "3-вариант: 2 и 1",
      "metadata": {}
    },
    {
      "cell_type": "code",
      "source": "P3=(combinations(5,2)*combinations(3,0))/combinations(8,2)*((combinations(5,1)*combinations(7,3))/combinations(12,4))\nP3",
      "metadata": {
        "trusted": true
      },
      "execution_count": 14,
      "outputs": [
        {
          "execution_count": 14,
          "output_type": "execute_result",
          "data": {
            "text/plain": "0.12626262626262627"
          },
          "metadata": {}
        }
      ]
    },
    {
      "cell_type": "code",
      "source": "P=P1+P2+P3\nP",
      "metadata": {
        "trusted": true
      },
      "execution_count": 15,
      "outputs": [
        {
          "execution_count": 15,
          "output_type": "execute_result",
          "data": {
            "text/plain": "0.3686868686868687"
          },
          "metadata": {}
        }
      ]
    },
    {
      "cell_type": "raw",
      "source": "3. В университет на факультеты A и B поступило равное количество студентов, а на факультет C студентов поступило столько же, сколько на A и B вместе. Вероятность того, что студент факультета A сдаст первую сессию, равна 0.8. Для студента факультета B эта вероятность равна 0.7, а для студента факультета C - 0.9. Студент сдал первую сессию. Какова вероятность, что он учится: \n    a). на факультете A \n    б). на факультете B \n    в). на факультете C?",
      "metadata": {}
    },
    {
      "cell_type": "markdown",
      "source": "$$P(A\\:|\\:B_1) = 0.8$$\n\n$$P(A\\:|\\:B_2) = 0.7$$\n\n$$P(A\\:|\\:B_3) = 0.9$$",
      "metadata": {}
    },
    {
      "cell_type": "markdown",
      "source": "$$P(A\\:|\\:B_1) = P(A\\:|\\:B_2) = \\frac{1}{4}$$",
      "metadata": {}
    },
    {
      "cell_type": "markdown",
      "source": "$$P(A\\:|\\:B_3) = \\frac{1}{2}$$",
      "metadata": {}
    },
    {
      "cell_type": "markdown",
      "source": "$$P(A) = P(B_1) \\cdot P(A\\:|\\:B_1) + P(B_2) \\cdot P(A\\:|\\:B_2) \\; + ... + \\; P(B_n) \\cdot P(A\\:|\\:B_n)$$",
      "metadata": {}
    },
    {
      "cell_type": "code",
      "source": "pA=0.8*1/4+0.7*1/4+0.9*1/2\npA",
      "metadata": {
        "trusted": true
      },
      "execution_count": 16,
      "outputs": [
        {
          "execution_count": 16,
          "output_type": "execute_result",
          "data": {
            "text/plain": "0.825"
          },
          "metadata": {}
        }
      ]
    },
    {
      "cell_type": "markdown",
      "source": "$$P(B\\:|\\:A) = \\frac{P(B) \\cdot P(A\\:|\\:B)}{P(A)}$$",
      "metadata": {}
    },
    {
      "cell_type": "code",
      "source": "PB1=(0.8*1/4)/0.825\nPB1",
      "metadata": {
        "trusted": true
      },
      "execution_count": 21,
      "outputs": [
        {
          "execution_count": 21,
          "output_type": "execute_result",
          "data": {
            "text/plain": "0.24242424242424246"
          },
          "metadata": {}
        }
      ]
    },
    {
      "cell_type": "markdown",
      "source": "$$P(B_1\\:|\\:A) = \\frac{\\frac{1}{4} \\cdot 0.8}{\\frac{33}{40}} = \\frac{8}{33}$$",
      "metadata": {}
    },
    {
      "cell_type": "code",
      "source": "PB2=(0.7*1/4)/0.825\nPB2",
      "metadata": {
        "trusted": true
      },
      "execution_count": 18,
      "outputs": [
        {
          "execution_count": 18,
          "output_type": "execute_result",
          "data": {
            "text/plain": "0.21212121212121213"
          },
          "metadata": {}
        }
      ]
    },
    {
      "cell_type": "markdown",
      "source": "$$P(B_2\\:|\\:A) = \\frac{\\frac{1}{4} \\cdot 0.7}{\\frac{33}{40}} = \\frac{7}{33}$$",
      "metadata": {}
    },
    {
      "cell_type": "code",
      "source": "PB3=(0.9*1/2)/0.825\nPB3",
      "metadata": {
        "trusted": true
      },
      "execution_count": 19,
      "outputs": [
        {
          "execution_count": 19,
          "output_type": "execute_result",
          "data": {
            "text/plain": "0.5454545454545455"
          },
          "metadata": {}
        }
      ]
    },
    {
      "cell_type": "markdown",
      "source": "$$P(B_3\\:|\\:A) = \\frac{\\frac{1}{2} \\cdot 0.9}{\\frac{33}{40}} = \\frac{18}{33}$$",
      "metadata": {}
    },
    {
      "cell_type": "raw",
      "source": "4. Устройство состоит из трех деталей. Для первой детали вероятность выйти из строя в первый месяц равна 0.1, для второй - 0.2, для третьей - 0.25. Какова вероятность того, что в первый месяц выйдут из строя: \n    а). все детали \n    б). только две детали \n    в). хотя бы одна деталь \n    г). от одной до двух деталей?",
      "metadata": {}
    },
    {
      "cell_type": "raw",
      "source": " а). все детали",
      "metadata": {}
    },
    {
      "cell_type": "markdown",
      "source": "$$P(A) = P(B_1) \\cdot P(B_2) \\cdot P(B_3)$$",
      "metadata": {}
    },
    {
      "cell_type": "code",
      "source": "0.1*0.2*0.25",
      "metadata": {
        "trusted": true
      },
      "execution_count": 22,
      "outputs": [
        {
          "execution_count": 22,
          "output_type": "execute_result",
          "data": {
            "text/plain": "0.005000000000000001"
          },
          "metadata": {}
        }
      ]
    },
    {
      "cell_type": "raw",
      "source": "б). только две детали",
      "metadata": {}
    },
    {
      "cell_type": "markdown",
      "source": "$$P(A) = P(B_1) \\cdot P(B_2) \\cdot P(1-B_3) + P(B_1) \\cdot P(1-B_2) \\cdot P(B_3) + P(1-B_1) \\cdot P(B_2) \\cdot P(B_3)$$",
      "metadata": {}
    },
    {
      "cell_type": "code",
      "source": "0.1*0.2*0.75+0.1*0.8*0.25+0.9*0.2*0.25",
      "metadata": {
        "trusted": true
      },
      "execution_count": 23,
      "outputs": [
        {
          "execution_count": 23,
          "output_type": "execute_result",
          "data": {
            "text/plain": "0.08000000000000002"
          },
          "metadata": {}
        }
      ]
    },
    {
      "cell_type": "raw",
      "source": "в). хотя бы одна деталь",
      "metadata": {}
    },
    {
      "cell_type": "markdown",
      "source": "$$P(A) = 1- P(1-B_1) \\cdot P(1-B_2) \\cdot P(1-B_3)$$",
      "metadata": {}
    },
    {
      "cell_type": "code",
      "source": "1-0.9*0.8*0.75",
      "metadata": {
        "trusted": true
      },
      "execution_count": 24,
      "outputs": [
        {
          "execution_count": 24,
          "output_type": "execute_result",
          "data": {
            "text/plain": "0.45999999999999996"
          },
          "metadata": {}
        }
      ]
    },
    {
      "cell_type": "raw",
      "source": "г). от одной до двух деталей?",
      "metadata": {}
    },
    {
      "cell_type": "markdown",
      "source": "$$P(A) = 1- P(1-B_1) \\cdot P(1-B_2) \\cdot P(1-B_3) - P(B_1) \\cdot P(B_2) \\cdot P(B_3)$$",
      "metadata": {}
    },
    {
      "cell_type": "code",
      "source": "1-0.9*0.8*0.75-0.1*0.2*0.25",
      "metadata": {
        "trusted": true
      },
      "execution_count": 27,
      "outputs": [
        {
          "execution_count": 27,
          "output_type": "execute_result",
          "data": {
            "text/plain": "0.45499999999999996"
          },
          "metadata": {}
        }
      ]
    },
    {
      "cell_type": "code",
      "source": "",
      "metadata": {},
      "execution_count": null,
      "outputs": []
    }
  ]
}