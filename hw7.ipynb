{
  "metadata": {
    "kernelspec": {
      "name": "python",
      "display_name": "Python (Pyodide)",
      "language": "python"
    },
    "language_info": {
      "codemirror_mode": {
        "name": "python",
        "version": 3
      },
      "file_extension": ".py",
      "mimetype": "text/x-python",
      "name": "python",
      "nbconvert_exporter": "python",
      "pygments_lexer": "ipython3",
      "version": "3.8"
    }
  },
  "nbformat_minor": 4,
  "nbformat": 4,
  "cells": [
    {
      "cell_type": "code",
      "source": "# 1-4 задачи решать с помощью функций, 5ю вручную\n# Выбрать тест и проверить, есть  ли различия между выборками:",
      "metadata": {
        "trusted": true
      },
      "outputs": [],
      "execution_count": 1
    },
    {
      "cell_type": "code",
      "source": "# 1 )  Даны две  независимые выборки. Не соблюдается условие нормальности\n# x1  380,420, 290\n# y1 140,360,200,900\n\n# Сделайте вывод по результатам, полученным с помощью функции",
      "metadata": {
        "trusted": true
      },
      "outputs": [],
      "execution_count": 2
    },
    {
      "cell_type": "code",
      "source": "import numpy as np\nfrom scipy import stats\nx1 = np.array([380, 420, 290])\ny1 = np.array ([140, 360, 200, 900])\nstats.mannwhitneyu(x1, y1) #p-value > a=5%, принимаем H0",
      "metadata": {
        "trusted": true
      },
      "outputs": [
        {
          "execution_count": 5,
          "output_type": "execute_result",
          "data": {
            "text/plain": "MannwhitneyuResult(statistic=8.0, pvalue=0.6285714285714286)"
          },
          "metadata": {}
        }
      ],
      "execution_count": 5
    },
    {
      "cell_type": "code",
      "source": "# 2 ) Исследовалось влияние препарата на уровень давления пациентов. Сначала измерялось давление до приема препарата, потом через 10 минут и через 30 минут. Есть ли статистически значимые различия?\n\n# 1е измерение до приема препарата: 150, 160, 165, 145, 155\n# 2е измерение через 10 минут: 140, 155, 150,  130, 135\n# 3е измерение через 30 минут: 130, 130, 120, 130, 125",
      "metadata": {
        "trusted": true
      },
      "outputs": [],
      "execution_count": 4
    },
    {
      "cell_type": "code",
      "source": "before = np.array([150, 160, 165, 145, 155])\nafter_10min = np.array([140, 155, 150,  130, 135])\nafter_30min = np.array([130, 130, 120, 130, 125])\nstats.friedmanchisquare(before, after_10min, after_30min) #p-value < a=5%, принимаем H1",
      "metadata": {
        "trusted": true
      },
      "outputs": [
        {
          "execution_count": 7,
          "output_type": "execute_result",
          "data": {
            "text/plain": "FriedmanchisquareResult(statistic=9.578947368421062, pvalue=0.00831683351100441)"
          },
          "metadata": {}
        }
      ],
      "execution_count": 7
    },
    {
      "cell_type": "code",
      "source": "# 3 ) Сравните 1 и 2 е измерения, предполагая, что 3го измерения через 30 минут не было.",
      "metadata": {
        "trusted": true
      },
      "outputs": [],
      "execution_count": 8
    },
    {
      "cell_type": "code",
      "source": "before = np.array([150, 160, 165, 145, 155])\nafter_10min = np.array([140, 155, 150,  130, 135])\nstats.wilcoxon(before, after_10min) #p-value > a=5%, принимаем H0",
      "metadata": {
        "trusted": true
      },
      "outputs": [
        {
          "execution_count": 10,
          "output_type": "execute_result",
          "data": {
            "text/plain": "WilcoxonResult(statistic=0.0, pvalue=0.0625)"
          },
          "metadata": {}
        }
      ],
      "execution_count": 10
    },
    {
      "cell_type": "code",
      "source": "# 4) Даны 3 группы  учеников плавания.\n# В 1 группе время на дистанцию 50 м составляют: 56, 60, 62, 55, 71, 67, 59, 58, 64, 67\n# Вторая группа : 57, 58, 69, 48, 72, 70, 68, 71, 50, 53\n# Третья группа: 57, 67, 49, 48, 47, 55, 66, 51, 54",
      "metadata": {
        "trusted": true
      },
      "outputs": [],
      "execution_count": 11
    },
    {
      "cell_type": "code",
      "source": "gr_1 = np.array([56, 60, 62, 55, 71, 67, 59, 58, 64, 67])\ngr_2 = np.array([57, 58, 69, 48, 72, 70, 68, 71, 50, 53])\ngr_3 = np.array([57, 67, 49, 48, 47, 55, 66, 51, 54])\nstats.kruskal(gr_1, gr_2, gr_3) #p-value > a=5%, принимаем H0",
      "metadata": {
        "trusted": true
      },
      "outputs": [
        {
          "execution_count": 13,
          "output_type": "execute_result",
          "data": {
            "text/plain": "KruskalResult(statistic=5.465564058257224, pvalue=0.0650380998590494)"
          },
          "metadata": {}
        }
      ],
      "execution_count": 13
    },
    {
      "cell_type": "code",
      "source": "# 5) Заявляется, что партия изготавливается со средним арифметическим 2,5 см. \n# Проверить данную гипотезу, если известно, что размеры изделий подчинены нормальному закону распределения. \n# Объем выборки 10, уровень статистической значимости 5%\n\n# 2.51, 2.35, 2.74, 2.56, 2.40, 2.36, 2.65, 2.7, 2.67, 2.34",
      "metadata": {
        "trusted": true
      },
      "outputs": [],
      "execution_count": 14
    },
    {
      "cell_type": "code",
      "source": "m0 = 2.5\nn = 10\nx = np.array([2.51, 2.35, 2.74, 2.56, 2.40, 2.36, 2.65, 2.7, 2.67, 2.34])\na = 0.05\nm_mean = np.mean(x) \nm_mean",
      "metadata": {
        "trusted": true
      },
      "outputs": [
        {
          "execution_count": 15,
          "output_type": "execute_result",
          "data": {
            "text/plain": "2.5279999999999996"
          },
          "metadata": {}
        }
      ],
      "execution_count": 15
    },
    {
      "cell_type": "code",
      "source": "t_tabl = stats.t.ppf(1.0 - a/2, len(x) - 1)\nt_tabl",
      "metadata": {
        "trusted": true
      },
      "outputs": [
        {
          "execution_count": 16,
          "output_type": "execute_result",
          "data": {
            "text/plain": "2.2621571627409915"
          },
          "metadata": {}
        }
      ],
      "execution_count": 16
    },
    {
      "cell_type": "code",
      "source": "std = np.var(x, ddof=1)\nnp.sqrt(std)\nt_count = (m_mean-m0)*(np.sqrt(n)/np.sqrt(std))\nt_count",
      "metadata": {
        "trusted": true
      },
      "outputs": [
        {
          "execution_count": 17,
          "output_type": "execute_result",
          "data": {
            "text/plain": "0.5630613661802959"
          },
          "metadata": {}
        }
      ],
      "execution_count": 17
    },
    {
      "cell_type": "code",
      "source": "stats.ttest_1samp(x, m0)",
      "metadata": {
        "trusted": true
      },
      "outputs": [
        {
          "execution_count": 18,
          "output_type": "execute_result",
          "data": {
            "text/plain": "TtestResult(statistic=0.5630613661802959, pvalue=0.5871439993940628, df=9)"
          },
          "metadata": {}
        }
      ],
      "execution_count": 18
    },
    {
      "cell_type": "code",
      "source": "#p-value > a=5%, принимаем H0",
      "metadata": {
        "trusted": true
      },
      "outputs": [],
      "execution_count": 19
    },
    {
      "cell_type": "code",
      "source": "",
      "metadata": {
        "trusted": true
      },
      "outputs": [],
      "execution_count": null
    }
  ]
}