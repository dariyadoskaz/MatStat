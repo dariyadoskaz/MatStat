{
  "metadata": {
    "language_info": {
      "codemirror_mode": {
        "name": "python",
        "version": 3
      },
      "file_extension": ".py",
      "mimetype": "text/x-python",
      "name": "python",
      "nbconvert_exporter": "python",
      "pygments_lexer": "ipython3",
      "version": "3.8"
    },
    "kernelspec": {
      "name": "python",
      "display_name": "Python (Pyodide)",
      "language": "python"
    }
  },
  "nbformat_minor": 4,
  "nbformat": 4,
  "cells": [
    {
      "cell_type": "raw",
      "source": "1.Случайная непрерывная величина A имеет равномерное распределение на промежутке (200, 800].\nНайдите ее среднее значение и дисперсию.",
      "metadata": {}
    },
    {
      "cell_type": "code",
      "source": "a = 200",
      "metadata": {
        "trusted": true
      },
      "execution_count": 13,
      "outputs": []
    },
    {
      "cell_type": "code",
      "source": "b = 800",
      "metadata": {
        "trusted": true
      },
      "execution_count": 14,
      "outputs": []
    },
    {
      "cell_type": "code",
      "source": "Mx = (a+b)/2\nMx",
      "metadata": {
        "trusted": true
      },
      "execution_count": 15,
      "outputs": [
        {
          "execution_count": 15,
          "output_type": "execute_result",
          "data": {
            "text/plain": "500.0"
          },
          "metadata": {}
        }
      ]
    },
    {
      "cell_type": "code",
      "source": "Dx = (b-a)**2/12\nDx",
      "metadata": {
        "trusted": true
      },
      "execution_count": 16,
      "outputs": [
        {
          "execution_count": 16,
          "output_type": "execute_result",
          "data": {
            "text/plain": "30000.0"
          },
          "metadata": {}
        }
      ]
    },
    {
      "cell_type": "raw",
      "source": "2. О случайной непрерывной равномерно распределенной величине B известно, что ее дисперсия равна 0.2.\nМожно ли найти правую границу величины B и ее среднее значение зная, что левая граница равна 0.5?\nЕсли да, найдите ее.",
      "metadata": {}
    },
    {
      "cell_type": "code",
      "source": "Dx = 0.2",
      "metadata": {
        "trusted": true
      },
      "execution_count": 32,
      "outputs": []
    },
    {
      "cell_type": "code",
      "source": "a = 0.5",
      "metadata": {
        "trusted": true
      },
      "execution_count": 33,
      "outputs": []
    },
    {
      "cell_type": "markdown",
      "source": "Dx = (b-a)**2/12\n0.2 = (b-0.5)**2/12\nb-0.5 = (0.2 * 12)**1/2",
      "metadata": {}
    },
    {
      "cell_type": "code",
      "source": "b = ((0.2 * 12)**(1/2)) + 0.5\nb",
      "metadata": {
        "trusted": true
      },
      "execution_count": 34,
      "outputs": [
        {
          "execution_count": 34,
          "output_type": "execute_result",
          "data": {
            "text/plain": "2.049193338482967"
          },
          "metadata": {}
        }
      ]
    },
    {
      "cell_type": "code",
      "source": "Mx = (a + b) / 2\nMx",
      "metadata": {
        "trusted": true
      },
      "execution_count": 36,
      "outputs": [
        {
          "execution_count": 36,
          "output_type": "execute_result",
          "data": {
            "text/plain": "1.2745966692414834"
          },
          "metadata": {}
        }
      ]
    },
    {
      "cell_type": "raw",
      "source": "3. Непрерывная случайная величина X распределена нормально и задана плотностью распределения\nf(x) = (1 / (4 * sqrt(2*pi))) * (exp(-(x+2)**2) / 32).\nНайдите:\n    а). M(X)\n    б). D(X)\n    в). std(X) (среднее квадратичное отклонение)",
      "metadata": {}
    },
    {
      "cell_type": "raw",
      "source": "M(X) = -2\nD(X) = 16\nstd(X) = 4",
      "metadata": {}
    },
    {
      "cell_type": "raw",
      "source": "4.Рост взрослого населения города X имеет нормальное распределение.\nПричем, средний рост равен 174 см, а среднее квадратичное отклонение равно 8 см.\nКакова вероятность того, что случайным образом выбранный взрослый человек имеет рост:\n    а). больше 182 см\n    б). больше 190 см\n    в). от 166 см до 190 см\n    г). от 166 см до 182 см\n    д). от 158 см до 190 см\n    е). не выше 150 см или не ниже 190 см\n    ё). не выше 150 см или не ниже 198 см\n    ж). ниже 166 см.\n\nНа сколько сигм (средних квадратичных отклонений) отклоняется рост человека, равный 190 см, от\nматематического ожидания роста в популяции, в которой M(X) = 178 см и D(X) = 25 кв.см?",
      "metadata": {}
    },
    {
      "cell_type": "code",
      "source": "from scipy.stats import norm",
      "metadata": {
        "trusted": true
      },
      "execution_count": 38,
      "outputs": []
    },
    {
      "cell_type": "code",
      "source": "1-norm.cdf(1)",
      "metadata": {
        "trusted": true
      },
      "execution_count": 39,
      "outputs": [
        {
          "execution_count": 39,
          "output_type": "execute_result",
          "data": {
            "text/plain": "0.15865525393145707"
          },
          "metadata": {}
        }
      ]
    },
    {
      "cell_type": "code",
      "source": "1-norm.cdf(2)",
      "metadata": {
        "trusted": true
      },
      "execution_count": 43,
      "outputs": [
        {
          "execution_count": 43,
          "output_type": "execute_result",
          "data": {
            "text/plain": "0.02275013194817921"
          },
          "metadata": {}
        }
      ]
    },
    {
      "cell_type": "raw",
      "source": "в). от 166 см до 190 см \nсогласно правилу трех сигм = 81,8%",
      "metadata": {}
    },
    {
      "cell_type": "raw",
      "source": "г). от 166 см до 182 см\nсогласно правилу трех сигм = 68.2%",
      "metadata": {}
    },
    {
      "cell_type": "raw",
      "source": " д). от 158 см до 190 см\nсогласно правилу трех сигм =  95.4%,",
      "metadata": {}
    },
    {
      "cell_type": "raw",
      "source": "е). не выше 150 см или не ниже 190 см\nсогласно правилу трех сигм =  2.45%",
      "metadata": {}
    },
    {
      "cell_type": "raw",
      "source": "ё). не выше 150 см или не ниже 198 см\nсогласно правилу трех сигм =  0.3%",
      "metadata": {}
    },
    {
      "cell_type": "raw",
      "source": "ж). ниже 166 см\nсогласно правилу трех сигм =  15.9%",
      "metadata": {}
    },
    {
      "cell_type": "code",
      "source": "M(X) = 178\nD(X) = 25\nstd = 5\nx = 190",
      "metadata": {},
      "execution_count": null,
      "outputs": []
    },
    {
      "cell_type": "code",
      "source": "(190-178)/5",
      "metadata": {
        "trusted": true
      },
      "execution_count": 41,
      "outputs": [
        {
          "execution_count": 41,
          "output_type": "execute_result",
          "data": {
            "text/plain": "2.4"
          },
          "metadata": {}
        }
      ]
    },
    {
      "cell_type": "code",
      "source": "",
      "metadata": {},
      "execution_count": null,
      "outputs": []
    }
  ]
}