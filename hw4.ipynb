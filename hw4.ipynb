{
  "metadata": {
    "kernelspec": {
      "name": "python",
      "display_name": "Python (Pyodide)",
      "language": "python"
    },
    "language_info": {
      "codemirror_mode": {
        "name": "python",
        "version": 3
      },
      "file_extension": ".py",
      "mimetype": "text/x-python",
      "name": "python",
      "nbconvert_exporter": "python",
      "pygments_lexer": "ipython3",
      "version": "3.8"
    }
  },
  "nbformat_minor": 4,
  "nbformat": 4,
  "cells": [
    {
      "cell_type": "code",
      "source": "# Случайная непрерывная величина A имеет равномерное распределение на промежутке (200, 800]. Найдите ее среднее значение и дисперсию.",
      "metadata": {
        "trusted": true
      },
      "outputs": [],
      "execution_count": 4
    },
    {
      "cell_type": "code",
      "source": "a = 200\nb = 800\nMx = (a+b)/2 #среднее значение\nMx",
      "metadata": {
        "trusted": true
      },
      "outputs": [
        {
          "execution_count": 7,
          "output_type": "execute_result",
          "data": {
            "text/plain": "500.0"
          },
          "metadata": {}
        }
      ],
      "execution_count": 7
    },
    {
      "cell_type": "code",
      "source": "Dx = (b-a)**2/12 #дисперсия\nDx",
      "metadata": {
        "trusted": true
      },
      "outputs": [
        {
          "execution_count": 8,
          "output_type": "execute_result",
          "data": {
            "text/plain": "30000.0"
          },
          "metadata": {}
        }
      ],
      "execution_count": 8
    },
    {
      "cell_type": "code",
      "source": "import math\nnum = 25\nsqrt = math.sqrt(Dx) \nsqrt",
      "metadata": {
        "trusted": true
      },
      "outputs": [
        {
          "execution_count": 10,
          "output_type": "execute_result",
          "data": {
            "text/plain": "173.20508075688772"
          },
          "metadata": {}
        }
      ],
      "execution_count": 10
    },
    {
      "cell_type": "code",
      "source": "# О случайной непрерывной равномерно распределенной величине B известно, что ее дисперсия равна 0.2. \n# Можно ли найти правую границу величины B и ее среднее значение зная, что левая граница равна 0.5? Если да, найдите ее.",
      "metadata": {
        "trusted": true
      },
      "outputs": [],
      "execution_count": 3
    },
    {
      "cell_type": "code",
      "source": "Dx = 0.2\na = 0.5\n# Dx = (b-a)2/12 \nb = ((Dx * 12)**(1/2)) + a #правая граница величины B\nb",
      "metadata": {
        "trusted": true
      },
      "outputs": [
        {
          "execution_count": 12,
          "output_type": "execute_result",
          "data": {
            "text/plain": "2.049193338482967"
          },
          "metadata": {}
        }
      ],
      "execution_count": 12
    },
    {
      "cell_type": "code",
      "source": "Mx = (a+b)/2 #среднее значение\nMx",
      "metadata": {
        "trusted": true
      },
      "outputs": [
        {
          "execution_count": 13,
          "output_type": "execute_result",
          "data": {
            "text/plain": "1.2745966692414834"
          },
          "metadata": {}
        }
      ],
      "execution_count": 13
    },
    {
      "cell_type": "code",
      "source": "# Непрерывная случайная величина X распределена нормально и задана плотностью распределения f(x) = (1 / (4 * sqrt(2pi))) * exp((-(x+2)**2) / 32)\n\n# Найдите:\n# а). M(X)\n# б). D(X)\n# в). std(X) (среднее квадратичное отклонение)",
      "metadata": {
        "trusted": true
      },
      "outputs": [],
      "execution_count": 4
    },
    {
      "cell_type": "code",
      "source": "# f(x) = (1 / (std * sqrt(2pi))) * e((-(x-mu)**2) / 2*std**2)\n# M(X) = -2\n# D(X) = 4\n# std(X) = 16",
      "metadata": {
        "trusted": true
      },
      "outputs": [],
      "execution_count": 7
    },
    {
      "cell_type": "code",
      "source": "# 4. Рост взрослого населения города X имеет нормальное распределение.\n# Причем, средний рост равен 174 см, а среднее квадратичное отклонение равно 8 см.\n\n# Какова вероятность того, что случайным образом выбранный взрослый человек имеет рост:\n# а). больше 182 см\n# б). больше 190 см\n# в). от 166 см до 190 см\n# г). от 166 см до 182 см\n# д). от 158 см до 190 см\n# е). не выше 150 см или не ниже 190 см\n# ё). не выше 150 см или не ниже 198 см\n# ж). ниже 166 см.",
      "metadata": {
        "trusted": true
      },
      "outputs": [],
      "execution_count": 5
    },
    {
      "cell_type": "code",
      "source": "from scipy import stats \n# а). больше 182 см\np = 1-stats.norm.cdf(1)\np",
      "metadata": {
        "trusted": true
      },
      "outputs": [
        {
          "execution_count": 9,
          "output_type": "execute_result",
          "data": {
            "text/plain": "0.15865525393145707"
          },
          "metadata": {}
        }
      ],
      "execution_count": 9
    },
    {
      "cell_type": "code",
      "source": "from scipy import stats \np = 1-stats.norm.cdf(182, 174, 8)\np",
      "metadata": {
        "trusted": true
      },
      "outputs": [
        {
          "execution_count": 10,
          "output_type": "execute_result",
          "data": {
            "text/plain": "0.15865525393145707"
          },
          "metadata": {}
        }
      ],
      "execution_count": 10
    },
    {
      "cell_type": "code",
      "source": "# б). больше 190 см\np = 1-stats.norm.cdf(190, 174, 8)\np",
      "metadata": {
        "trusted": true
      },
      "outputs": [
        {
          "execution_count": 11,
          "output_type": "execute_result",
          "data": {
            "text/plain": "0.02275013194817921"
          },
          "metadata": {}
        }
      ],
      "execution_count": 11
    },
    {
      "cell_type": "code",
      "source": "# в). от 166 см до 190 см\np1 = stats.norm.cdf(166, 174, 8)\np2 = stats.norm.cdf(190, 174, 8)\np = p2-p1\np",
      "metadata": {
        "trusted": true
      },
      "outputs": [
        {
          "execution_count": 56,
          "output_type": "execute_result",
          "data": {
            "text/plain": "0.8185946141203637"
          },
          "metadata": {}
        }
      ],
      "execution_count": 56
    },
    {
      "cell_type": "code",
      "source": "# г). от 166 см до 182 см\np1 = stats.norm.cdf(166, 174, 8)\np2 = stats.norm.cdf(182, 174, 8)\np = p2-p1\np",
      "metadata": {
        "trusted": true
      },
      "outputs": [
        {
          "execution_count": 52,
          "output_type": "execute_result",
          "data": {
            "text/plain": "0.6826894921370859"
          },
          "metadata": {}
        }
      ],
      "execution_count": 52
    },
    {
      "cell_type": "code",
      "source": "# д). от 158 см до 190 см\np1 = stats.norm.cdf(158, 174, 8)\np2 = stats.norm.cdf(190, 174, 8)\np = p2-p1\np",
      "metadata": {
        "trusted": true
      },
      "outputs": [
        {
          "execution_count": 57,
          "output_type": "execute_result",
          "data": {
            "text/plain": "0.9544997361036416"
          },
          "metadata": {}
        }
      ],
      "execution_count": 57
    },
    {
      "cell_type": "code",
      "source": "# е). не выше 150 см или не ниже 190 см\np1 = stats.norm.cdf(150, 174, 8)\np2 = 1-stats.norm.cdf(190, 174, 8)\np = p2+p1\np",
      "metadata": {
        "trusted": true
      },
      "outputs": [
        {
          "execution_count": 63,
          "output_type": "execute_result",
          "data": {
            "text/plain": "0.0241000299798093"
          },
          "metadata": {}
        }
      ],
      "execution_count": 63
    },
    {
      "cell_type": "code",
      "source": "# ё). не выше 150 см или не ниже 198 см\np1 = stats.norm.cdf(150, 174, 8)\np2 = 1-stats.norm.cdf(198, 174, 8)\np = p2+p1\np",
      "metadata": {
        "trusted": true
      },
      "outputs": [
        {
          "execution_count": 64,
          "output_type": "execute_result",
          "data": {
            "text/plain": "0.0026997960632601965"
          },
          "metadata": {}
        }
      ],
      "execution_count": 64
    },
    {
      "cell_type": "code",
      "source": "# ж). ниже 166 см.\np = stats.norm.cdf(166, 174, 8)\np",
      "metadata": {
        "trusted": true
      },
      "outputs": [
        {
          "execution_count": 65,
          "output_type": "execute_result",
          "data": {
            "text/plain": "0.15865525393145707"
          },
          "metadata": {}
        }
      ],
      "execution_count": 65
    },
    {
      "cell_type": "code",
      "source": "# 5. На сколько сигм (средних квадратичных отклонений) отклоняется рост человека, равный 190 см, \n# от математического ожидания роста в популяции, в которой M(X) = 178 см и D(X) = 25 кв.см?",
      "metadata": {
        "trusted": true
      },
      "outputs": [],
      "execution_count": 8
    },
    {
      "cell_type": "code",
      "source": "Mx = 178\nDx = 25\nstd = 5\nx = 190\n(190-178)/5",
      "metadata": {
        "trusted": true
      },
      "outputs": [
        {
          "execution_count": 70,
          "output_type": "execute_result",
          "data": {
            "text/plain": "2.4"
          },
          "metadata": {}
        }
      ],
      "execution_count": 70
    },
    {
      "cell_type": "code",
      "source": "",
      "metadata": {
        "trusted": true
      },
      "outputs": [],
      "execution_count": null
    }
  ]
}