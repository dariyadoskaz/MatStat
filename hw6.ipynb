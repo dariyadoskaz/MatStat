{
  "metadata": {
    "kernelspec": {
      "name": "python",
      "display_name": "Python (Pyodide)",
      "language": "python"
    },
    "language_info": {
      "codemirror_mode": {
        "name": "python",
        "version": 3
      },
      "file_extension": ".py",
      "mimetype": "text/x-python",
      "name": "python",
      "nbconvert_exporter": "python",
      "pygments_lexer": "ipython3",
      "version": "3.8"
    }
  },
  "nbformat_minor": 4,
  "nbformat": 4,
  "cells": [
    {
      "cell_type": "code",
      "source": "# Известно, что генеральная совокупность распределена нормально со средним квадратическим отклонением, равным 16.\n# Найти доверительный интервал для оценки математического ожидания a с надежностью 0.95, \n# если выборочная средняя M = 80, а объем выборки n = 256.",
      "metadata": {
        "trusted": true
      },
      "outputs": [],
      "execution_count": 1
    },
    {
      "cell_type": "code",
      "source": "import numpy as np\nfrom scipy import stats\nstd = 16\nx = 80\nn = 256\na = 0.05\nse = std / np.sqrt(n)\nz_95 = stats.norm.ppf(0.975)\nprint(x - se * z_95, x + se * z_95) #доверительный интервал для 95%",
      "metadata": {
        "trusted": true
      },
      "outputs": [
        {
          "name": "stdout",
          "text": "78.04003601545995 81.95996398454005\n",
          "output_type": "stream"
        }
      ],
      "execution_count": 7
    },
    {
      "cell_type": "code",
      "source": "# В результате 10 независимых измерений некоторой величины X, выполненных с одинаковой точностью, получены опытные данные:\n# 6.9, 6.1, 6.2, 6.8, 7.5, 6.3, 6.4, 6.9, 6.7, 6.1\n# Предполагая, что результаты измерений подчинены нормальному закону распределения вероятностей, \n# оценить истинное значение величины X при помощи доверительного интервала, \n# покрывающего это значение с доверительной вероятностью 0,95.",
      "metadata": {
        "trusted": true
      },
      "outputs": [],
      "execution_count": 2
    },
    {
      "cell_type": "code",
      "source": "n = 10\nx = [6.9, 6.1, 6.2, 6.8, 7.5, 6.3, 6.4, 6.9, 6.7, 6.1]\na = 0.05\nx_mean = np.mean(x)\nt_95 = stats.t.ppf(0.975, n - 1)\nstd = np.std(x, ddof=1)\nse = std / np.sqrt(n)\nprint(x_mean - se * t_95, x_mean + se * t_95) #доверительный интервал для 95%",
      "metadata": {
        "trusted": true
      },
      "outputs": [
        {
          "name": "stdout",
          "text": "6.267515851415713 6.912484148584288\n",
          "output_type": "stream"
        }
      ],
      "execution_count": 11
    },
    {
      "cell_type": "code",
      "source": "# Рост дочерей 175, 167, 154, 174, 178, 148, 160, 167, 169, 170\n# Рост матерей  178, 165, 165, 173, 168, 155, 160, 164, 178, 175\n# Используя эти данные построить 95% доверительный интервал для разности среднего роста родителей и детей.",
      "metadata": {
        "trusted": true
      },
      "outputs": [],
      "execution_count": 3
    },
    {
      "cell_type": "code",
      "source": "m1 = np.array([175, 167, 154, 174, 178, 148, 160, 167, 169, 170])\nm2 = np.array([178, 165, 165, 173, 168, 155, 160, 164, 178, 175])\nm1_mean = np.mean(m1)\nm2_mean = np.mean(m2)\ndelta = m1_mean - m2_mean\nn1 = n2 = 10\nstd_m1 = np.std(m1, ddof=1)\nstd_m2 = np.std(m2, ddof=1)\nse = np.sqrt((std_m1**2 / n1) + (std_m2**2 / n2))\nt_95 = stats.t.ppf(0.975, n1 + n2 -2)\nprint(delta - t_95 * se, delta + t_95 * se) #95% доверительный интервал",
      "metadata": {
        "trusted": true
      },
      "outputs": [
        {
          "name": "stdout",
          "text": "-10.068418034506857 6.268418034506846\n",
          "output_type": "stream"
        }
      ],
      "execution_count": 23
    },
    {
      "cell_type": "code",
      "source": "# delta = 0, таким образом статистически значимых различий в росте родителей и детей не обнаружено.",
      "metadata": {
        "trusted": true
      },
      "outputs": [],
      "execution_count": 18
    },
    {
      "cell_type": "code",
      "source": "",
      "metadata": {
        "trusted": true
      },
      "outputs": [],
      "execution_count": null
    }
  ]
}