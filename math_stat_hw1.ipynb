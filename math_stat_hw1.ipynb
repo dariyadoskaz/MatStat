{
  "metadata": {
    "language_info": {
      "codemirror_mode": {
        "name": "python",
        "version": 3
      },
      "file_extension": ".py",
      "mimetype": "text/x-python",
      "name": "python",
      "nbconvert_exporter": "python",
      "pygments_lexer": "ipython3",
      "version": "3.8"
    },
    "kernelspec": {
      "name": "python",
      "display_name": "Python (Pyodide)",
      "language": "python"
    }
  },
  "nbformat_minor": 4,
  "nbformat": 4,
  "cells": [
    {
      "cell_type": "code",
      "source": "# 1. Из колоды в 52 карты извлекаются случайным образом 4 карты. \n# a) Найти вероятность того, что все карты – крести. \n# б) Найти вероятность, что среди 4-х карт окажется хотя бы один туз.",
      "metadata": {
        "trusted": true
      },
      "execution_count": 1,
      "outputs": []
    },
    {
      "cell_type": "code",
      "source": "from math import factorial\ndef combinations(n, k):\n    return int(factorial(n) / (factorial(k) * factorial(n - k)))",
      "metadata": {
        "trusted": true
      },
      "execution_count": 2,
      "outputs": []
    },
    {
      "cell_type": "code",
      "source": "# Всего крести 52/4=13\n# Вероятность вытащить крести первой 13/52=1/4\n# Вероятность вытащить крести второй 12/51=4/17, так как одна карта крести уже вытащена.\n# Вероятность вытащить крести третьей 11/50.\n# Вероятность вытащить крести четвертой 10/49.\n# Поскольку события зависимы\n# P(A*B*C*D) = P(A)* P(B|A) * P(C|B) * P(D|C)\n# Вероятность того, что все карты – крести",
      "metadata": {
        "trusted": true
      },
      "execution_count": 18,
      "outputs": []
    },
    {
      "cell_type": "code",
      "source": "n=combinations(13, 4) # общее к-во возможных комбинаций из 4х крести\nn",
      "metadata": {
        "trusted": true
      },
      "execution_count": 31,
      "outputs": [
        {
          "execution_count": 31,
          "output_type": "execute_result",
          "data": {
            "text/plain": "715"
          },
          "metadata": {}
        }
      ]
    },
    {
      "cell_type": "code",
      "source": "k=combinations(52, 4) #общее к-во возможных комбинаций из 4х карт\nk",
      "metadata": {
        "trusted": true
      },
      "execution_count": 32,
      "outputs": [
        {
          "execution_count": 32,
          "output_type": "execute_result",
          "data": {
            "text/plain": "270725"
          },
          "metadata": {}
        }
      ]
    },
    {
      "cell_type": "code",
      "source": "P = n / k # Вероятность того, что все карты – крести\nP",
      "metadata": {
        "trusted": true
      },
      "execution_count": 33,
      "outputs": [
        {
          "execution_count": 33,
          "output_type": "execute_result",
          "data": {
            "text/plain": "0.0026410564225690276"
          },
          "metadata": {}
        }
      ]
    },
    {
      "cell_type": "code",
      "source": "# Количество возможных комбинаций с 1 тузом\na=combinations(4, 1)*combinations(48, 3)\na",
      "metadata": {
        "trusted": true
      },
      "execution_count": 22,
      "outputs": [
        {
          "execution_count": 22,
          "output_type": "execute_result",
          "data": {
            "text/plain": "69184"
          },
          "metadata": {}
        }
      ]
    },
    {
      "cell_type": "code",
      "source": "#Количество возможных комбинаций с 2 тузами\nb=combinations(4, 2)*combinations(48, 2)\nb",
      "metadata": {
        "trusted": true
      },
      "execution_count": 23,
      "outputs": [
        {
          "execution_count": 23,
          "output_type": "execute_result",
          "data": {
            "text/plain": "6768"
          },
          "metadata": {}
        }
      ]
    },
    {
      "cell_type": "code",
      "source": "#Количество возможных комбинаций с 3 тузами\nc=combinations(4, 3)*combinations(48, 1)\nc",
      "metadata": {
        "trusted": true
      },
      "execution_count": 24,
      "outputs": [
        {
          "execution_count": 24,
          "output_type": "execute_result",
          "data": {
            "text/plain": "192"
          },
          "metadata": {}
        }
      ]
    },
    {
      "cell_type": "code",
      "source": "#Количество возможных комбинаций с 4 тузами\ne=combinations(4, 4)*combinations(48, 0)\ne",
      "metadata": {
        "trusted": true
      },
      "execution_count": 25,
      "outputs": [
        {
          "execution_count": 25,
          "output_type": "execute_result",
          "data": {
            "text/plain": "1"
          },
          "metadata": {}
        }
      ]
    },
    {
      "cell_type": "code",
      "source": "#Количество возможных комбинаций с хотя бы одним тузом\nC=a+b+c+e\nC",
      "metadata": {
        "trusted": true
      },
      "execution_count": 26,
      "outputs": [
        {
          "execution_count": 26,
          "output_type": "execute_result",
          "data": {
            "text/plain": "76145"
          },
          "metadata": {}
        }
      ]
    },
    {
      "cell_type": "code",
      "source": "#Вероятность, что среди 4-х карт окажется хотя бы один туз\nP=C/k\nP",
      "metadata": {
        "trusted": true
      },
      "execution_count": 29,
      "outputs": [
        {
          "execution_count": 29,
          "output_type": "execute_result",
          "data": {
            "text/plain": "0.2812632745405855"
          },
          "metadata": {}
        }
      ]
    },
    {
      "cell_type": "code",
      "source": "# 2. На входной двери подъезда установлен кодовый замок, содержащий десять кнопок с цифрами от 0 до 9. \n# Код содержит три цифры, которые нужно нажать одновременно. \n# Какова вероятность того, что человек, не знающий код, откроет дверь с первой попытки?",
      "metadata": {
        "trusted": true
      },
      "execution_count": 7,
      "outputs": []
    },
    {
      "cell_type": "code",
      "source": "n = 1 #к-во благоприятных исходов",
      "metadata": {
        "trusted": true
      },
      "execution_count": 34,
      "outputs": []
    },
    {
      "cell_type": "code",
      "source": "N=combinations(10, 3) #к-во общих исходов\nN",
      "metadata": {
        "trusted": true
      },
      "execution_count": 36,
      "outputs": [
        {
          "execution_count": 36,
          "output_type": "execute_result",
          "data": {
            "text/plain": "120"
          },
          "metadata": {}
        }
      ]
    },
    {
      "cell_type": "code",
      "source": "P = n / N\nP",
      "metadata": {
        "trusted": true
      },
      "execution_count": 37,
      "outputs": [
        {
          "execution_count": 37,
          "output_type": "execute_result",
          "data": {
            "text/plain": "0.008333333333333333"
          },
          "metadata": {}
        }
      ]
    },
    {
      "cell_type": "code",
      "source": "# 3. В ящике имеется 15 деталей, из которых 9 окрашены. \n# Рабочий случайным образом извлекает 3 детали. \n# Какова вероятность того, что все извлеченные детали окрашены?",
      "metadata": {
        "trusted": true
      },
      "execution_count": 11,
      "outputs": []
    },
    {
      "cell_type": "code",
      "source": "# P=(A*B*C)=P(A)*P(B|A)*P(C|B)- события зависимы\nP=9/15*8/14*7/13\nP",
      "metadata": {
        "trusted": true
      },
      "execution_count": 14,
      "outputs": [
        {
          "execution_count": 14,
          "output_type": "execute_result",
          "data": {
            "text/plain": "0.1846153846153846"
          },
          "metadata": {}
        }
      ]
    },
    {
      "cell_type": "code",
      "source": "# 4. В лотерее 100 билетов. Из них 2 выигрышных. Какова вероятность того, что 2 приобретенных билета окажутся выигрышными?",
      "metadata": {
        "trusted": true
      },
      "execution_count": 15,
      "outputs": []
    },
    {
      "cell_type": "code",
      "source": "# P=(A*B)=P(A)*P(B|A) - события зависимы\nP=2/100*1/99\nP",
      "metadata": {
        "trusted": true
      },
      "execution_count": 17,
      "outputs": [
        {
          "execution_count": 17,
          "output_type": "execute_result",
          "data": {
            "text/plain": "0.00020202020202020202"
          },
          "metadata": {}
        }
      ]
    },
    {
      "cell_type": "code",
      "source": "",
      "metadata": {},
      "execution_count": null,
      "outputs": []
    }
  ]
}