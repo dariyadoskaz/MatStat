{
  "metadata": {
    "language_info": {
      "codemirror_mode": {
        "name": "python",
        "version": 3
      },
      "file_extension": ".py",
      "mimetype": "text/x-python",
      "name": "python",
      "nbconvert_exporter": "python",
      "pygments_lexer": "ipython3",
      "version": "3.8"
    },
    "kernelspec": {
      "name": "python",
      "display_name": "Python (Pyodide)",
      "language": "python"
    }
  },
  "nbformat_minor": 4,
  "nbformat": 4,
  "cells": [
    {
      "cell_type": "raw",
      "source": "1. Вероятность того, что стрелок попадет в мишень, выстрелив один раз, равна 0.8. Стрелок выстрелил 100 раз. Найдите вероятность того, что стрелок попадет в цель ровно 85 раз.",
      "metadata": {}
    },
    {
      "cell_type": "code",
      "source": "import numpy as np",
      "metadata": {
        "trusted": true
      },
      "execution_count": 9,
      "outputs": []
    },
    {
      "cell_type": "markdown",
      "source": "$$C_n^k = \\frac{n!}{k!(n - k)!}$$",
      "metadata": {}
    },
    {
      "cell_type": "code",
      "source": "from math import factorial",
      "metadata": {
        "trusted": true
      },
      "execution_count": 12,
      "outputs": []
    },
    {
      "cell_type": "code",
      "source": "def combinations(n, k):\n    return int(factorial(n) / (factorial(k) * factorial(n - k)))",
      "metadata": {
        "trusted": true
      },
      "execution_count": 13,
      "outputs": []
    },
    {
      "cell_type": "code",
      "source": "combinations(100, 85)",
      "metadata": {
        "trusted": true
      },
      "execution_count": 14,
      "outputs": [
        {
          "execution_count": 14,
          "output_type": "execute_result",
          "data": {
            "text/plain": "253338471349988640"
          },
          "metadata": {}
        }
      ]
    },
    {
      "cell_type": "markdown",
      "source": "$$p(k=85) = C_n^kp^kq^{n-k} = C_{100}^{85}p^{85}q^{15} = \\frac{100!}{85!(100-85)!} \\cdot 0.8^{85} \\cdot 0.2^{15} = 253338471349988640 \\cdot 5.7896 \\cdot 3.2768 = 0.0480$$",
      "metadata": {}
    },
    {
      "cell_type": "raw",
      "source": "Вероятность того, что лампочка перегорит в течение первого дня эксплуатации, равна 0.0004. В жилом комплексе после ремонта в один день включили 5000 новых лампочек. Какова вероятность, что ни одна из них не перегорит в первый день? Какова вероятность, что перегорят ровно две?",
      "metadata": {}
    },
    {
      "cell_type": "markdown",
      "source": "$$P_m \\approx \\frac{\\lambda^m}{m!}e^{-\\lambda}$$",
      "metadata": {}
    },
    {
      "cell_type": "markdown",
      "source": "**где** $λ = np$.",
      "metadata": {}
    },
    {
      "cell_type": "code",
      "source": "n = 5000\nm = 2\np = 0.0004\nlambda_ = n * p\n\n(lambda_**m / np.math.factorial(m)) * np.exp(-lambda_)",
      "metadata": {
        "trusted": true
      },
      "execution_count": null,
      "outputs": []
    },
    {
      "cell_type": "markdown",
      "source": "Применим формулу Пуассона, зная, что $m = 0$ и $λ = np = 5000 \\cdot 0.0004 = 2$:",
      "metadata": {}
    },
    {
      "cell_type": "markdown",
      "source": "$$P_{0} \\approx \\frac{\\lambda^m}{m!}e^{-\\lambda} \\approx \\frac{2^{0}}{0!}e^{-2} \\approx  0.1353$$",
      "metadata": {}
    },
    {
      "cell_type": "markdown",
      "source": "Применим формулу Пуассона, зная, что $m = 2$ и $λ = np = 5000 \\cdot 0.0004 = 2$:",
      "metadata": {}
    },
    {
      "cell_type": "markdown",
      "source": "$$P_{2} \\approx \\frac{\\lambda^m}{m!}e^{-\\lambda} \\approx \\frac{2^{2}}{2!}e^{-2} \\approx  0.2707$$",
      "metadata": {}
    },
    {
      "cell_type": "raw",
      "source": "Монету подбросили 144 раза. Какова вероятность, что орел выпадет ровно 70 раз?",
      "metadata": {}
    },
    {
      "cell_type": "markdown",
      "source": "$$p(k=70) = C_n^kp^kq^{n-k} = C_{144}^{70}p^{70}q^{74} = \\frac{144!}{70!(144-70)!} \\cdot 0.5^{70} \\cdot 0.5^{74} = 1400749509083708812152608657850239525991600 \\cdot 8.4703 \\cdot 5.2939 = 0.0628$$",
      "metadata": {}
    },
    {
      "cell_type": "raw",
      "source": "В первом ящике находится 10 мячей, из которых 7 - белые. Во втором ящике - 11 мячей, из которых 9 белых. Из каждого ящика вытаскивают случайным образом по два мяча. \n    Какова вероятность того, что все мячи белые? \n    Какова вероятность того, что ровно два мяча белые? \n    Какова вероятность того, что хотя бы один мяч белый?",
      "metadata": {}
    },
    {
      "cell_type": "raw",
      "source": "Вариант 1:",
      "metadata": {}
    },
    {
      "cell_type": "markdown",
      "source": "$$ P = (\\frac{7}{10} \\cdot \\frac{6}{9}) \\cdot (\\frac{9}{11}\\cdot \\frac{8}{10}) \\approx 0.3055 $$",
      "metadata": {}
    },
    {
      "cell_type": "raw",
      "source": "Вариант 3:",
      "metadata": {}
    },
    {
      "cell_type": "markdown",
      "source": "$$ P(A) = 1- ((\\frac{3}{10} \\cdot \\frac{2}{9}) \\cdot (\\frac{2}{11}\\cdot \\frac{1}{10})) \\approx 0.9988 $$",
      "metadata": {}
    },
    {
      "cell_type": "raw",
      "source": "Вариант 2: посмотрела разбор на лекции",
      "metadata": {}
    }
  ]
}