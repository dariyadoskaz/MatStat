{
  "metadata": {
    "kernelspec": {
      "name": "python",
      "display_name": "Python (Pyodide)",
      "language": "python"
    },
    "language_info": {
      "codemirror_mode": {
        "name": "python",
        "version": 3
      },
      "file_extension": ".py",
      "mimetype": "text/x-python",
      "name": "python",
      "nbconvert_exporter": "python",
      "pygments_lexer": "ipython3",
      "version": "3.8"
    }
  },
  "nbformat_minor": 4,
  "nbformat": 4,
  "cells": [
    {
      "cell_type": "code",
      "source": "# Когда используется критерий Стьюдента, а когда Z –критерий? \n\n# T-тесты используются для сравнения средних значений двух групп, когда стандартное отклонение совокупности неизвестно, \n# а Z-тесты используются, когда известно стандартное отклонение совокупности и размер выборки большой.",
      "metadata": {
        "trusted": true
      },
      "outputs": [],
      "execution_count": 76
    },
    {
      "cell_type": "code",
      "source": "# Задачи 2,3 решать вручную\n# Проведите тест гипотезы. Утверждается, что шарики для подшипников, изготовленные автоматическим станком, имеют средний диаметр 17 мм. \n# Используя односторонний критерий с α=0,05, проверить эту гипотезу, \n# если в выборке из n=100 шариков средний диаметр оказался равным 17.5 мм, а дисперсия известна и равна 4 кв. мм.",
      "metadata": {
        "trusted": true
      },
      "outputs": [],
      "execution_count": 77
    },
    {
      "cell_type": "code",
      "source": "import numpy as np\na = 0.05\nn = 100\nm0 = 17\nm = 17.5\nD = 4\nSE = np.sqrt(D) / np.sqrt(n)\nz_count = (m - m0) / SE\nz_count",
      "metadata": {
        "trusted": true
      },
      "outputs": [
        {
          "execution_count": 87,
          "output_type": "execute_result",
          "data": {
            "text/plain": "2.5"
          },
          "metadata": {}
        }
      ],
      "execution_count": 87
    },
    {
      "cell_type": "code",
      "source": "z_tabl = stats.norm.ppf(0.95)\nz_tabl",
      "metadata": {
        "trusted": true
      },
      "outputs": [
        {
          "execution_count": 99,
          "output_type": "execute_result",
          "data": {
            "text/plain": "1.6448536269514722"
          },
          "metadata": {}
        }
      ],
      "execution_count": 99
    },
    {
      "cell_type": "code",
      "source": "# Так как z_count больше критического значения, мы отвергаем нулевую гипотезу. \n# Таким образом, в выборке из 100 шариков средний диаметр оказался равным 17.5 мм.",
      "metadata": {
        "trusted": true
      },
      "outputs": [],
      "execution_count": 100
    },
    {
      "cell_type": "code",
      "source": "# Проведите тест гипотезы. Продавец утверждает, что средний вес пачки печенья составляет 200 г. \n# Из партии извлечена выборка из 10 пачек. Вес каждой пачки составляет: 202, 203, 199, 197, 195, 201, 200, 204, 194, 190. \n# Известно, что их веса распределены нормально. Верно ли утверждение продавца, если учитывать, \n# что доверительная вероятность равна 99%? (Провести двусторонний тест.) ",
      "metadata": {
        "trusted": true
      },
      "outputs": [],
      "execution_count": 34
    },
    {
      "cell_type": "code",
      "source": "from scipy import stats\nm0 = 200\nn =10\nx = np.array([202, 203, 199, 197, 195, 201, 200, 204, 194, 190])\na = 0.01\nm_mean = np.mean(x) \nm_mean",
      "metadata": {
        "trusted": true
      },
      "outputs": [
        {
          "execution_count": 80,
          "output_type": "execute_result",
          "data": {
            "text/plain": "198.5"
          },
          "metadata": {}
        }
      ],
      "execution_count": 80
    },
    {
      "cell_type": "code",
      "source": "t_tabl = stats.t.ppf(1.0 - a/2, len(x) - 1)\nt_tabl",
      "metadata": {
        "trusted": true
      },
      "outputs": [
        {
          "execution_count": 84,
          "output_type": "execute_result",
          "data": {
            "text/plain": "3.2498355440153697"
          },
          "metadata": {}
        }
      ],
      "execution_count": 84
    },
    {
      "cell_type": "code",
      "source": "std = np.var(x, ddof=1)\nnp.sqrt(std)\nt_count = (m_mean-m0)*(np.sqrt(n)/np.sqrt(std))\nt_count",
      "metadata": {
        "trusted": true
      },
      "outputs": [
        {
          "execution_count": 82,
          "output_type": "execute_result",
          "data": {
            "text/plain": "-1.0651074037450896"
          },
          "metadata": {}
        }
      ],
      "execution_count": 82
    },
    {
      "cell_type": "code",
      "source": "stats.ttest_1samp(x, m0)",
      "metadata": {
        "trusted": true
      },
      "outputs": [
        {
          "execution_count": 83,
          "output_type": "execute_result",
          "data": {
            "text/plain": "TtestResult(statistic=-1.0651074037450894, pvalue=0.31456660352472854, df=9)"
          },
          "metadata": {}
        }
      ],
      "execution_count": 83
    },
    {
      "cell_type": "code",
      "source": "# Вывод, так как p_value > a, мы принимаем нулевую гипотезу. \n# Таким образом, утверждение продавца верно, если учитывать, что доверительная вероятность равна 99%",
      "metadata": {
        "trusted": true
      },
      "outputs": [],
      "execution_count": 64
    },
    {
      "cell_type": "code",
      "source": "# Задачу 4 решать с помощью функции. \n# Есть ли статистически значимые различия в росте дочерей? \n# Рост матерей 172, 177, 158, 170, 178,175, 164, 160, 169, 165 \n# Рост взрослых дочерей: 173, 175, 162, 174, 175, 168, 155, 170, 160",
      "metadata": {
        "trusted": true
      },
      "outputs": [],
      "execution_count": 5
    },
    {
      "cell_type": "code",
      "source": "x = np.array([172, 177, 158, 170, 178,175, 164, 160, 169, 165])\ny = np.array([173, 175, 162, 174, 175, 168, 155, 170, 160])\nstats.ttest_ind(x, y)",
      "metadata": {
        "trusted": true
      },
      "outputs": [
        {
          "execution_count": 61,
          "output_type": "execute_result",
          "data": {
            "text/plain": "TtestResult(statistic=0.24400587215969016, pvalue=0.8101467126543231, df=17.0)"
          },
          "metadata": {}
        }
      ],
      "execution_count": 61
    },
    {
      "cell_type": "code",
      "source": "# Вывод, если мы даже выберем а = 10%, так как p_value > a, мы принимаем нулевую гипотезу. \n# Таким образом статистически значимых различий в росте дочерей нет.",
      "metadata": {
        "trusted": true
      },
      "outputs": [],
      "execution_count": 63
    },
    {
      "cell_type": "code",
      "source": "",
      "metadata": {
        "trusted": true
      },
      "outputs": [],
      "execution_count": null
    }
  ]
}