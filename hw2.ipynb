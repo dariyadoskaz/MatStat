{
  "metadata": {
    "language_info": {
      "codemirror_mode": {
        "name": "python",
        "version": 3
      },
      "file_extension": ".py",
      "mimetype": "text/x-python",
      "name": "python",
      "nbconvert_exporter": "python",
      "pygments_lexer": "ipython3",
      "version": "3.8"
    },
    "kernelspec": {
      "name": "python",
      "display_name": "Python (Pyodide)",
      "language": "python"
    }
  },
  "nbformat_minor": 4,
  "nbformat": 4,
  "cells": [
    {
      "cell_type": "code",
      "source": "# 1. Вероятность того, что стрелок попадет в мишень, выстрелив один раз, равна 0.8. Стрелок выстрелил 100 раз. \n# Найдите вероятность того, что стрелок попадет в цель ровно 85 раз.",
      "metadata": {
        "trusted": true
      },
      "execution_count": 1,
      "outputs": []
    },
    {
      "cell_type": "code",
      "source": "from math import factorial\ndef combinations(n, k):\n    return int(factorial(n) / (factorial(k) * factorial(n - k)))",
      "metadata": {
        "trusted": true
      },
      "execution_count": 2,
      "outputs": []
    },
    {
      "cell_type": "code",
      "source": "def bernuli(p, n, k):\n    return combinations(n,k) * p**(k) * (1 - p)**(n - k)\np = bernuli(0.8, 100, 85)\np",
      "metadata": {
        "trusted": true
      },
      "execution_count": 4,
      "outputs": [
        {
          "execution_count": 4,
          "output_type": "execute_result",
          "data": {
            "text/plain": "0.048061793700746355"
          },
          "metadata": {}
        }
      ]
    },
    {
      "cell_type": "code",
      "source": "# 2. Вероятность того, что лампочка перегорит в течение первого дня эксплуатации, равна 0.0004. \n# В жилом комплексе после ремонта в один день включили 5000 новых лампочек. \n# Какова вероятность, что ни одна из них не перегорит в первый день? \n# Какова вероятность, что перегорят ровно две?",
      "metadata": {
        "trusted": true
      },
      "execution_count": 5,
      "outputs": []
    },
    {
      "cell_type": "code",
      "source": "def bernuli(p, n, k):\n    return combinations(n,k) * p**(k) * (1 - p)**(n - k)\np_0 = bernuli(0.0004, 5000, 0)\np_0 #ни одна из них не перегорит в первый день",
      "metadata": {
        "trusted": true
      },
      "execution_count": 10,
      "outputs": [
        {
          "execution_count": 10,
          "output_type": "execute_result",
          "data": {
            "text/plain": "0.13528114551440706"
          },
          "metadata": {}
        }
      ]
    },
    {
      "cell_type": "code",
      "source": "p_2 = bernuli(0.0004, 5000, 2)\np_2 #перегорят ровно две",
      "metadata": {
        "trusted": true
      },
      "execution_count": 14,
      "outputs": [
        {
          "execution_count": 14,
          "output_type": "execute_result",
          "data": {
            "text/plain": "0.2707247150266753"
          },
          "metadata": {}
        }
      ]
    },
    {
      "cell_type": "code",
      "source": "#вариант с использованием формулы Пуассона \nn = 5000\np = 0.0004\nk = 0\nl = n * p\np_1 = l ** k/factorial(k) * 2.72 ** (-l)\np_1 ",
      "metadata": {
        "trusted": true
      },
      "execution_count": 21,
      "outputs": [
        {
          "execution_count": 21,
          "output_type": "execute_result",
          "data": {
            "text/plain": "0.13516435986159167"
          },
          "metadata": {}
        }
      ]
    },
    {
      "cell_type": "code",
      "source": "n = 5000\np = 0.0004\nk = 2\nl = n * p\np_2 = l ** k/factorial(k) * 2.72 ** (-l)\np_2 ",
      "metadata": {
        "trusted": true
      },
      "execution_count": 20,
      "outputs": [
        {
          "execution_count": 20,
          "output_type": "execute_result",
          "data": {
            "text/plain": "0.27032871972318334"
          },
          "metadata": {}
        }
      ]
    },
    {
      "cell_type": "code",
      "source": "# 3. Монету подбросили 144 раза. Какова вероятность, что орел выпадет ровно 70 раз?",
      "metadata": {},
      "execution_count": null,
      "outputs": []
    },
    {
      "cell_type": "code",
      "source": "def bernuli(p, n, k):\n    return combinations(n,k) * p**(k) * (1 - p)**(n - k)\np = bernuli(0.5, 144, 70)\np",
      "metadata": {
        "trusted": true
      },
      "execution_count": 22,
      "outputs": [
        {
          "execution_count": 22,
          "output_type": "execute_result",
          "data": {
            "text/plain": "0.06281178035144776"
          },
          "metadata": {}
        }
      ]
    },
    {
      "cell_type": "code",
      "source": "# 4. В первом ящике находится 10 мячей, из которых 7 - белые. \n# Во втором ящике - 11 мячей, из которых 9 белых. \n# Из каждого ящика вытаскивают случайным образом по два мяча. \n# Какова вероятность того, что все мячи белые? \n# Какова вероятность того, что ровно два мяча белые? Какова вероятность того, что хотя бы один мяч белый?",
      "metadata": {},
      "execution_count": null,
      "outputs": []
    },
    {
      "cell_type": "code",
      "source": "# Вероятность того, что все мячи белые\np_1 = (7/10) * (6/9) * (9/11) * (8/10) #события зависимые \np_1 ",
      "metadata": {
        "trusted": true
      },
      "execution_count": 26,
      "outputs": [
        {
          "execution_count": 26,
          "output_type": "execute_result",
          "data": {
            "text/plain": "0.3054545454545454"
          },
          "metadata": {}
        }
      ]
    },
    {
      "cell_type": "code",
      "source": "# Вероятность того, что ровно два мяча белые\np_1 = combinations(2, 2) * (7/10) * (6/9) * (2/11) * (1/10) # из первого ящика 2 белых, из втрого 2 белый\np_2 = combinations(2, 1) * (7/10) * (3/9) * (9/11) * (2/10) # из первого ящика 2 белых мяча, из втрого 1 белый\np_3 = combinations(2, 0) * (3/10) * (2/9) * (9/11) * (8/10) # из первого ящика 2 белых, из втрого 0 белый\np = p_1 + p_2 + p_3\np",
      "metadata": {
        "trusted": true
      },
      "execution_count": 31,
      "outputs": [
        {
          "execution_count": 31,
          "output_type": "execute_result",
          "data": {
            "text/plain": "0.12848484848484848"
          },
          "metadata": {}
        }
      ]
    },
    {
      "cell_type": "code",
      "source": "# Вероятность того, что хотя бы один мяч белый\np_3 = 1 - (3/10) * (2/9) * (2/11) * (1/10)\np_3",
      "metadata": {
        "trusted": true
      },
      "execution_count": 29,
      "outputs": [
        {
          "execution_count": 29,
          "output_type": "execute_result",
          "data": {
            "text/plain": "0.9987878787878788"
          },
          "metadata": {}
        }
      ]
    }
  ]
}