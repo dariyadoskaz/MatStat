{
  "metadata": {
    "kernelspec": {
      "name": "python",
      "display_name": "Python (Pyodide)",
      "language": "python"
    },
    "language_info": {
      "codemirror_mode": {
        "name": "python",
        "version": 3
      },
      "file_extension": ".py",
      "mimetype": "text/x-python",
      "name": "python",
      "nbconvert_exporter": "python",
      "pygments_lexer": "ipython3",
      "version": "3.8"
    }
  },
  "nbformat_minor": 4,
  "nbformat": 4,
  "cells": [
    {
      "cell_type": "code",
      "source": "# Даны значения величины заработной платы заемщиков банка (zp) и значения их поведенческого кредитного скоринга (ks): \n# zp = [35, 45, 190, 200, 40, 70, 54, 150, 120, 110], \n# ks = [401, 574, 874, 919, 459, 739, 653, 902, 746, 832]. \n# Найдите ковариацию этих двух величин с помощью элементарных действий, а затем с помощью функции cov из numpy \n# Полученные значения должны быть равны. \n# Найдите коэффициент корреляции Пирсона с помощью ковариации и среднеквадратичных отклонений двух признаков, \n# а затем с использованием функций из библиотек numpy и pandas.",
      "metadata": {
        "trusted": true
      },
      "outputs": [],
      "execution_count": 2
    },
    {
      "cell_type": "code",
      "source": "import numpy as np\nfrom matplotlib import pyplot as plt\nzp = np.array([35, 45, 190, 200, 40, 70, 54, 150, 120, 110]) \nks = np.array([401, 574, 874, 919, 459, 739, 653, 902, 746, 832])\ncov_count = (zp*ks).mean() - zp.mean()*ks.mean()\ncov_count",
      "metadata": {
        "trusted": true
      },
      "outputs": [
        {
          "execution_count": 34,
          "output_type": "execute_result",
          "data": {
            "text/plain": "9157.839999999997"
          },
          "metadata": {}
        }
      ],
      "execution_count": 34
    },
    {
      "cell_type": "code",
      "source": "cov_auto = np.cov(zp, ks, ddof=0)[0,1]\ncov_auto #смещенная",
      "metadata": {
        "trusted": true
      },
      "outputs": [
        {
          "execution_count": 35,
          "output_type": "execute_result",
          "data": {
            "text/plain": "9157.84"
          },
          "metadata": {}
        }
      ],
      "execution_count": 35
    },
    {
      "cell_type": "code",
      "source": "r_count = cov_auto/(ks.std()*zp.std())\nr_count #смещенная",
      "metadata": {
        "trusted": true
      },
      "outputs": [
        {
          "execution_count": 43,
          "output_type": "execute_result",
          "data": {
            "text/plain": "0.8874900920739162"
          },
          "metadata": {}
        }
      ],
      "execution_count": 43
    },
    {
      "cell_type": "code",
      "source": "r_auto = np.corrcoef(zp, ks)[0,1]\nplt.scatter(zp, ks)\nplt.show()\nr_auto",
      "metadata": {
        "trusted": true
      },
      "outputs": [
        {
          "output_type": "display_data",
          "data": {
            "text/plain": "<Figure size 640x480 with 1 Axes>",
            "image/png": "[encoded data removed]"
          },
          "metadata": {}
        },
        {
          "execution_count": 45,
          "output_type": "execute_result",
          "data": {
            "text/plain": "0.8874900920739159"
          },
          "metadata": {}
        }
      ],
      "execution_count": 45
    },
    {
      "cell_type": "code",
      "source": "import pandas as pd\ndf = pd.DataFrame({'zp':zp, 'ks':ks}, columns=['zp','ks'])\ndf",
      "metadata": {
        "trusted": true
      },
      "outputs": [
        {
          "execution_count": 47,
          "output_type": "execute_result",
          "data": {
            "text/plain": "    zp   ks\n0   35  401\n1   45  574\n2  190  874\n3  200  919\n4   40  459\n5   70  739\n6   54  653\n7  150  902\n8  120  746\n9  110  832",
            "text/html": "<div>\n<style scoped>\n    .dataframe tbody tr th:only-of-type {\n        vertical-align: middle;\n    }\n\n    .dataframe tbody tr th {\n        vertical-align: top;\n    }\n\n    .dataframe thead th {\n        text-align: right;\n    }\n</style>\n<table border=\"1\" class=\"dataframe\">\n  <thead>\n    <tr style=\"text-align: right;\">\n      <th></th>\n      <th>zp</th>\n      <th>ks</th>\n    </tr>\n  </thead>\n  <tbody>\n    <tr>\n      <th>0</th>\n      <td>35</td>\n      <td>401</td>\n    </tr>\n    <tr>\n      <th>1</th>\n      <td>45</td>\n      <td>574</td>\n    </tr>\n    <tr>\n      <th>2</th>\n      <td>190</td>\n      <td>874</td>\n    </tr>\n    <tr>\n      <th>3</th>\n      <td>200</td>\n      <td>919</td>\n    </tr>\n    <tr>\n      <th>4</th>\n      <td>40</td>\n      <td>459</td>\n    </tr>\n    <tr>\n      <th>5</th>\n      <td>70</td>\n      <td>739</td>\n    </tr>\n    <tr>\n      <th>6</th>\n      <td>54</td>\n      <td>653</td>\n    </tr>\n    <tr>\n      <th>7</th>\n      <td>150</td>\n      <td>902</td>\n    </tr>\n    <tr>\n      <th>8</th>\n      <td>120</td>\n      <td>746</td>\n    </tr>\n    <tr>\n      <th>9</th>\n      <td>110</td>\n      <td>832</td>\n    </tr>\n  </tbody>\n</table>\n</div>"
          },
          "metadata": {}
        }
      ],
      "execution_count": 47
    },
    {
      "cell_type": "code",
      "source": "cov_pd = df.cov(ddof=0).values[0,1]\ncov_pd",
      "metadata": {
        "trusted": true
      },
      "outputs": [
        {
          "execution_count": 53,
          "output_type": "execute_result",
          "data": {
            "text/plain": "9157.84"
          },
          "metadata": {}
        }
      ],
      "execution_count": 53
    },
    {
      "cell_type": "code",
      "source": "corr_pd = df.corr().values[0,1]\ncorr_pd",
      "metadata": {
        "trusted": true
      },
      "outputs": [
        {
          "execution_count": 55,
          "output_type": "execute_result",
          "data": {
            "text/plain": "0.8874900920739168"
          },
          "metadata": {}
        }
      ],
      "execution_count": 55
    },
    {
      "cell_type": "code",
      "source": "# Измерены значения IQ выборки студентов, \n# обучающихся в местных технических вузах: 131, 125, 115, 122, 131, 115, 107, 99, 125, 111. \n# Известно, что в генеральной совокупности IQ распределен нормально. \n# Найдите доверительный интервал для математического ожидания с надежностью 0.95.",
      "metadata": {
        "trusted": true
      },
      "outputs": [],
      "execution_count": 3
    },
    {
      "cell_type": "code",
      "source": "from scipy import stats\nn = 10\nx = [131, 125, 115, 122, 131, 115, 107, 99, 125, 111]\na = 0.05\nx_mean = np.mean(x)\nt_95 = stats.t.ppf(0.975, n - 1)\nstd = np.std(x, ddof=1)\nse = std / np.sqrt(n)\nprint(x_mean - se * t_95, x_mean + se * t_95) #доверительный интервал для 95%",
      "metadata": {
        "trusted": true
      },
      "outputs": [
        {
          "name": "stdout",
          "text": "110.55608365158724 125.64391634841274\n",
          "output_type": "stream"
        }
      ],
      "execution_count": 22
    },
    {
      "cell_type": "code",
      "source": "# Известно, что рост футболистов в сборной распределен нормально с дисперсией генеральной совокупности, равной 25 кв.см. \n# Объем выборки равен 27, среднее выборочное составляет 174.2. \n# Найдите доверительный интервал для математического ожидания с надежностью 0.95.",
      "metadata": {
        "trusted": true
      },
      "outputs": [],
      "execution_count": 4
    },
    {
      "cell_type": "code",
      "source": "D = 25\nstd = 5\nn = 27\nm = 174.2\na = 0.05\nse = std / np.sqrt(n)\nz_95 = stats.norm.ppf(0.975)\nprint(m - se * z_95, m + se * z_95) #доверительный интервал для 95%",
      "metadata": {
        "trusted": true
      },
      "outputs": [
        {
          "name": "stdout",
          "text": "172.3140237765397 176.08597622346028\n",
          "output_type": "stream"
        }
      ],
      "execution_count": 21
    },
    {
      "cell_type": "code",
      "source": "",
      "metadata": {
        "trusted": true
      },
      "outputs": [],
      "execution_count": null
    }
  ]
}